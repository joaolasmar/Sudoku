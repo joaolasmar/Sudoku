{
 "cells": [
  {
   "cell_type": "markdown",
   "metadata": {},
   "source": [
    "# Solving Sudoku Puzzle with Pyomo and Excel"
   ]
  },
  {
   "cell_type": "markdown",
   "metadata": {},
   "source": [
    "This formulation is based on the chapter 5.4.2 from Pyomo documentation."
   ]
  },
  {
   "cell_type": "markdown",
   "metadata": {},
   "source": [
    "$$\n",
    "\\begin{align}\n",
    "    \\text{s.t.} & \\sum_{r \\in ROWS} y_{r,c,v} = 1 \\quad & \\forall c \\in COLS, v \\in VALUES \\\\\n",
    "                & \\sum_{c \\in COLS} y_{r,c,v} = 1 \\quad & \\forall r \\in ROWS, v \\in VALUES \\\\\n",
    "                & \\sum_{v \\in VALUES} y_{r,c,v} = 1 \\quad & \\forall r \\in ROWS, c \\in COLS \\\\\n",
    "                & \\sum_{r=1}^{3} \\sum_{c=1}^{3} y_{(r + U),(c + W),v} & U, W \\in \\{0,3,6\\} \\\\\n",
    "                & y_{r,c,v} \\in \\{0,1\\} \\quad & \\forall r \\in ROWS, c \\in COLS, v \\in VALUES\n",
    "\\end{align}\n",
    "$$"
   ]
  },
  {
   "cell_type": "code",
   "execution_count": 1,
   "metadata": {},
   "outputs": [],
   "source": [
    "import pandas as pd\n",
    "import pyomo.environ as pyo"
   ]
  },
  {
   "cell_type": "code",
   "execution_count": 2,
   "metadata": {},
   "outputs": [],
   "source": [
    "board = pd.read_excel('./sudoku_input_0.xlsx', header=None)"
   ]
  },
  {
   "cell_type": "code",
   "execution_count": 3,
   "metadata": {},
   "outputs": [],
   "source": [
    "def sudoku_model(board):\n",
    "\n",
    "    model = pyo.ConcreteModel()\n",
    "\n",
    "    # store the starting board\n",
    "    # board = pd.read_excel('./sudoku_input_0.xlsx', header=None)\n",
    "    board.index += 1\n",
    "    board.columns += 1\n",
    "    display(board)\n",
    "\n",
    "    # create sets for rows, columns and subsquares\n",
    "    model.ROWS = pyo.Set(initialize=board.index)\n",
    "    model.COLS = pyo.Set(initialize=board.columns)\n",
    "    model.VALUES = pyo.Set(initialize=pyo.RangeSet(1, 9))\n",
    "    \n",
    "    model.U = pyo.Set(initialize=[0, 3, 6])\n",
    "    model.W = pyo.Set(initialize=[0, 3, 6])\n",
    "\n",
    "    # fix variables based on the current board\n",
    "    for r in model.ROWS:\n",
    "        for c in model.COLS:\n",
    "            if board.loc[r, c] in model.VALUES:\n",
    "                model.y[r, c, board.loc[r, c]].fix(1)\n",
    "\n",
    "    # exactly one number in each row\n",
    "    def row_cstr(model, c, v):\n",
    "        return sum(model.y[:, c, v]) == 1\n",
    "    \n",
    "    model.row_cstr = pyo.Constraint(model.COLS, model.VALUES, rule=row_cstr)\n",
    "\n",
    "    # exactly one number in each column\n",
    "    def col_cstr(model, r, v):\n",
    "        return sum(model.y[r, :, v]) == 1\n",
    "\n",
    "    model.col_cstr = pyo.Constraint(model.ROWS, model.VALUES, rule=col_cstr)\n",
    "\n",
    "    # exactly one number in each subsquare\n",
    "    def subsquares_cstr(model, u, w, v):\n",
    "        return sum(model.y[r+u, c+w, v] for r in range(1, 4) for c in range(1, 4)) == 1\n",
    "\n",
    "    model.subsquares_cstr = pyo.Constraint(model.U, model.W, model.VALUES, rule=subsquares_cstr)\n",
    "\n",
    "    # exactly one number in each cell\n",
    "    def value_cstr(model, r, c):\n",
    "        return sum(model.y[r, c, :]) == 1\n",
    "\n",
    "    model.value_cstr = pyo.Constraint(model.ROWS, model.COLS, rule=value_cstr)\n",
    "\n",
    "    # objective function - feasibility problem so we just make it a constant\n",
    "    model.obj = pyo.Objective(expr=1.0)"
   ]
  },
  {
   "cell_type": "markdown",
   "metadata": {},
   "source": [
    "## Integer cut"
   ]
  },
  {
   "cell_type": "markdown",
   "metadata": {},
   "source": [
    "The integer cut uses two sets. The first set $S_0$ consists of indices for those variables whose current solution is 0, and the second set $S_1$ consists of indices for those variables whose current solution is 1. Given the two sets, the integer cut constraint would prevent such a solution from appeating twice."
   ]
  },
  {
   "cell_type": "markdown",
   "metadata": {},
   "source": [
    "$$\n",
    "\\begin{align}\n",
    "    \\sum_{(r,c,v) \\in S_0} y_{r,c,v} + \\sum_{(r,c,v) \\in S_1} (1 - y_{r,c,v}) \\ge 1\n",
    "\\end{align}\n",
    "$$"
   ]
  },
  {
   "cell_type": "code",
   "execution_count": 13,
   "metadata": {},
   "outputs": [],
   "source": [
    "# adding a new integer cur to the model\n",
    "\n",
    "def add_integer_cut(model):\n",
    "    # add the ConstraintList to store the IntegerCuts if it does not already exist\n",
    "    if not hasattr(model, 'IntegerCuts'):\n",
    "        model.IntegerCuts = pyo.ConstraintList()\n",
    "\n",
    "    # add the integer cut corresponding to the current solution in the model\n",
    "    cut_expr = 0.0\n",
    "    for r in model.ROWS:\n",
    "        for c in model.COLS:\n",
    "            for v in model.VALUES:\n",
    "                if not model.y[r, c, v].fixed:\n",
    "                    if pyo.value(model.y[r, c, v]) >= 0.5:\n",
    "                        cut_expr += (1.0 - model.y[r, c, v])\n",
    "                    else:\n",
    "                        cut_expr += model.y[r, c, v]\n",
    "    model.IntegerCuts.add(cut_expr >= 1)\n"
   ]
  },
  {
   "cell_type": "code",
   "execution_count": 14,
   "metadata": {},
   "outputs": [],
   "source": [
    "# prints the solution stored in the model\n",
    "\n",
    "def print_solution(model):\n",
    "    for r in model.ROWS:\n",
    "        print(' '.join(str(v) for c in model.COLS\n",
    "                       for v in model.VALUES\n",
    "                       if pyo.value(model.y[r, c, v]) >= 0.5))"
   ]
  },
  {
   "cell_type": "code",
   "execution_count": 22,
   "metadata": {},
   "outputs": [
    {
     "name": "stdout",
     "output_type": "stream",
     "text": [
      "WARNING: Constant objective detected, replacing with a placeholder to prevent\n",
      "    solver failure.\n"
     ]
    },
    {
     "name": "stdout",
     "output_type": "stream",
     "text": [
      "Number of solutions found = 1\n",
      "Solution #1\n",
      "2 9 8 4 6 5 1 7 3\n",
      "1 6 5 7 9 3 8 2 4\n",
      "3 4 7 1 2 8 9 6 5\n",
      "7 8 2 5 3 1 4 9 6\n",
      "6 1 9 2 8 4 5 3 7\n",
      "5 3 4 9 7 6 2 1 8\n",
      "8 7 1 3 4 2 6 5 9\n",
      "4 5 3 6 1 9 7 8 2\n",
      "9 2 6 8 5 7 3 4 1\n",
      "WARNING: Constant objective detected, replacing with a placeholder to prevent\n",
      "    solver failure.\n",
      "Number of solutions found = 2\n",
      "Solution #2\n",
      "9 4 6 7 3 2 1 5 8\n",
      "8 1 3 4 5 6 2 9 7\n",
      "7 5 2 1 8 9 3 6 4\n",
      "4 3 8 6 1 7 5 2 9\n",
      "5 2 7 3 9 4 8 1 6\n",
      "1 6 9 8 2 5 4 7 3\n",
      "6 8 1 2 7 3 9 4 5\n",
      "3 7 5 9 4 1 6 8 2\n",
      "2 9 4 5 6 8 7 3 1\n",
      "WARNING: Constant objective detected, replacing with a placeholder to prevent\n",
      "    solver failure.\n",
      "Number of solutions found = 3\n",
      "Solution #3\n",
      "3 6 7 4 2 9 8 5 1\n",
      "2 8 5 1 6 7 4 9 3\n",
      "4 9 1 8 3 5 6 7 2\n",
      "5 1 8 7 9 4 2 3 6\n",
      "9 2 3 5 1 6 7 4 8\n",
      "7 4 6 3 8 2 9 1 5\n",
      "6 5 9 2 4 3 1 8 7\n",
      "1 3 2 9 7 8 5 6 4\n",
      "8 7 4 6 5 1 3 2 9\n",
      "WARNING: Constant objective detected, replacing with a placeholder to prevent\n",
      "    solver failure.\n",
      "Number of solutions found = 4\n",
      "Solution #4\n",
      "5 6 2 4 8 9 7 3 1\n",
      "1 8 4 5 7 3 9 2 6\n",
      "7 9 3 1 6 2 5 8 4\n",
      "8 1 7 6 2 4 3 5 9\n",
      "2 5 6 3 9 1 8 4 7\n",
      "4 3 9 8 5 7 1 6 2\n",
      "3 7 1 2 4 8 6 9 5\n",
      "6 2 8 9 1 5 4 7 3\n",
      "9 4 5 7 3 6 2 1 8\n",
      "WARNING: Constant objective detected, replacing with a placeholder to prevent\n",
      "    solver failure.\n",
      "Number of solutions found = 5\n",
      "Solution #5\n",
      "6 1 9 8 2 5 3 7 4\n",
      "7 4 8 6 1 3 9 5 2\n",
      "2 5 3 9 4 7 8 1 6\n",
      "5 6 2 1 7 9 4 8 3\n",
      "8 9 4 3 5 6 1 2 7\n",
      "1 3 7 2 8 4 6 9 5\n",
      "3 8 1 5 6 2 7 4 9\n",
      "4 2 6 7 9 1 5 3 8\n",
      "9 7 5 4 3 8 2 6 1\n",
      "WARNING: Constant objective detected, replacing with a placeholder to prevent\n",
      "    solver failure.\n",
      "Number of solutions found = 6\n",
      "Solution #6\n",
      "7 9 2 1 5 6 8 4 3\n",
      "6 8 1 3 2 4 5 7 9\n",
      "4 3 5 7 9 8 2 6 1\n",
      "2 5 9 6 7 1 3 8 4\n",
      "3 6 7 4 8 5 9 1 2\n",
      "1 4 8 2 3 9 6 5 7\n",
      "8 7 3 5 1 2 4 9 6\n",
      "9 2 6 8 4 7 1 3 5\n",
      "5 1 4 9 6 3 7 2 8\n",
      "WARNING: Constant objective detected, replacing with a placeholder to prevent\n",
      "    solver failure.\n"
     ]
    },
    {
     "ename": "KeyboardInterrupt",
     "evalue": "",
     "output_type": "error",
     "traceback": [
      "\u001b[1;31m---------------------------------------------------------------------------\u001b[0m",
      "\u001b[1;31mKeyboardInterrupt\u001b[0m                         Traceback (most recent call last)",
      "Cell \u001b[1;32mIn[22], line 4\u001b[0m\n\u001b[0;32m      2\u001b[0m \u001b[39mwhile\u001b[39;00m \u001b[39m1\u001b[39m:\n\u001b[0;32m      3\u001b[0m     \u001b[39mwith\u001b[39;00m pyo\u001b[39m.\u001b[39mSolverFactory(\u001b[39m\"\u001b[39m\u001b[39mglpk\u001b[39m\u001b[39m\"\u001b[39m) \u001b[39mas\u001b[39;00m opt:\n\u001b[1;32m----> 4\u001b[0m         solution \u001b[39m=\u001b[39m opt\u001b[39m.\u001b[39;49msolve(model)\n\u001b[0;32m      5\u001b[0m         \u001b[39mif\u001b[39;00m solution\u001b[39m.\u001b[39msolver\u001b[39m.\u001b[39mtermination_condition \u001b[39m!=\u001b[39m pyo\u001b[39m.\u001b[39mTerminationCondition\u001b[39m.\u001b[39moptimal:\n\u001b[0;32m      6\u001b[0m             \u001b[39mprint\u001b[39m(\u001b[39m\"\u001b[39m\u001b[39mAll board solutions have been found\u001b[39m\u001b[39m\"\u001b[39m)\n",
      "File \u001b[1;32mc:\\Users\\User\\AppData\\Local\\Programs\\Python\\Python310\\lib\\site-packages\\pyomo\\opt\\base\\solvers.py:579\u001b[0m, in \u001b[0;36mOptSolver.solve\u001b[1;34m(self, *args, **kwds)\u001b[0m\n\u001b[0;32m    576\u001b[0m \u001b[39mif\u001b[39;00m \u001b[39mnot\u001b[39;00m _model \u001b[39mis\u001b[39;00m \u001b[39mNone\u001b[39;00m:\n\u001b[0;32m    577\u001b[0m     \u001b[39mself\u001b[39m\u001b[39m.\u001b[39m_initialize_callbacks(_model)\n\u001b[1;32m--> 579\u001b[0m _status \u001b[39m=\u001b[39m \u001b[39mself\u001b[39;49m\u001b[39m.\u001b[39;49m_apply_solver()\n\u001b[0;32m    580\u001b[0m \u001b[39mif\u001b[39;00m \u001b[39mhasattr\u001b[39m(\u001b[39mself\u001b[39m, \u001b[39m'\u001b[39m\u001b[39m_transformation_data\u001b[39m\u001b[39m'\u001b[39m):\n\u001b[0;32m    581\u001b[0m     \u001b[39mdel\u001b[39;00m \u001b[39mself\u001b[39m\u001b[39m.\u001b[39m_transformation_data\n",
      "File \u001b[1;32mc:\\Users\\User\\AppData\\Local\\Programs\\Python\\Python310\\lib\\site-packages\\pyomo\\opt\\solver\\shellcmd.py:255\u001b[0m, in \u001b[0;36mSystemCallSolver._apply_solver\u001b[1;34m(self)\u001b[0m\n\u001b[0;32m    252\u001b[0m         \u001b[39mprint\u001b[39m(\u001b[39m\"\u001b[39m\u001b[39mSolver problem files: \u001b[39m\u001b[39m%s\u001b[39;00m\u001b[39m\"\u001b[39m \u001b[39m%\u001b[39m \u001b[39mstr\u001b[39m(\u001b[39mself\u001b[39m\u001b[39m.\u001b[39m_problem_files))\n\u001b[0;32m    254\u001b[0m sys\u001b[39m.\u001b[39mstdout\u001b[39m.\u001b[39mflush()\n\u001b[1;32m--> 255\u001b[0m \u001b[39mself\u001b[39m\u001b[39m.\u001b[39m_rc, \u001b[39mself\u001b[39m\u001b[39m.\u001b[39m_log \u001b[39m=\u001b[39m \u001b[39mself\u001b[39;49m\u001b[39m.\u001b[39;49m_execute_command(\u001b[39mself\u001b[39;49m\u001b[39m.\u001b[39;49m_command)\n\u001b[0;32m    256\u001b[0m sys\u001b[39m.\u001b[39mstdout\u001b[39m.\u001b[39mflush()\n\u001b[0;32m    257\u001b[0m \u001b[39mreturn\u001b[39;00m Bunch(rc\u001b[39m=\u001b[39m\u001b[39mself\u001b[39m\u001b[39m.\u001b[39m_rc, log\u001b[39m=\u001b[39m\u001b[39mself\u001b[39m\u001b[39m.\u001b[39m_log)\n",
      "File \u001b[1;32mc:\\Users\\User\\AppData\\Local\\Programs\\Python\\Python310\\lib\\site-packages\\pyomo\\opt\\solver\\shellcmd.py:323\u001b[0m, in \u001b[0;36mSystemCallSolver._execute_command\u001b[1;34m(self, command)\u001b[0m\n\u001b[0;32m    321\u001b[0m \u001b[39mtry\u001b[39;00m:\n\u001b[0;32m    322\u001b[0m     \u001b[39mwith\u001b[39;00m TeeStream(\u001b[39m*\u001b[39mostreams) \u001b[39mas\u001b[39;00m t:\n\u001b[1;32m--> 323\u001b[0m         results \u001b[39m=\u001b[39m subprocess\u001b[39m.\u001b[39;49mrun(\n\u001b[0;32m    324\u001b[0m             command\u001b[39m.\u001b[39;49mcmd,\n\u001b[0;32m    325\u001b[0m             \u001b[39minput\u001b[39;49m\u001b[39m=\u001b[39;49m_input,\n\u001b[0;32m    326\u001b[0m             env\u001b[39m=\u001b[39;49mcommand\u001b[39m.\u001b[39;49menv,\n\u001b[0;32m    327\u001b[0m             stdout\u001b[39m=\u001b[39;49mt\u001b[39m.\u001b[39;49mSTDOUT,\n\u001b[0;32m    328\u001b[0m             stderr\u001b[39m=\u001b[39;49mt\u001b[39m.\u001b[39;49mSTDERR,\n\u001b[0;32m    329\u001b[0m             timeout\u001b[39m=\u001b[39;49mtimeout,\n\u001b[0;32m    330\u001b[0m             universal_newlines\u001b[39m=\u001b[39;49m\u001b[39mTrue\u001b[39;49;00m,\n\u001b[0;32m    331\u001b[0m             cwd\u001b[39m=\u001b[39;49mcommand\u001b[39m.\u001b[39;49mcwd \u001b[39mif\u001b[39;49;00m \u001b[39m\"\u001b[39;49m\u001b[39mcwd\u001b[39;49m\u001b[39m\"\u001b[39;49m \u001b[39min\u001b[39;49;00m command \u001b[39melse\u001b[39;49;00m \u001b[39mNone\u001b[39;49;00m,\n\u001b[0;32m    332\u001b[0m         )\n\u001b[0;32m    333\u001b[0m         t\u001b[39m.\u001b[39mSTDOUT\u001b[39m.\u001b[39mflush()\n\u001b[0;32m    334\u001b[0m         t\u001b[39m.\u001b[39mSTDERR\u001b[39m.\u001b[39mflush()\n",
      "File \u001b[1;32mc:\\Users\\User\\AppData\\Local\\Programs\\Python\\Python310\\lib\\subprocess.py:503\u001b[0m, in \u001b[0;36mrun\u001b[1;34m(input, capture_output, timeout, check, *popenargs, **kwargs)\u001b[0m\n\u001b[0;32m    501\u001b[0m \u001b[39mwith\u001b[39;00m Popen(\u001b[39m*\u001b[39mpopenargs, \u001b[39m*\u001b[39m\u001b[39m*\u001b[39mkwargs) \u001b[39mas\u001b[39;00m process:\n\u001b[0;32m    502\u001b[0m     \u001b[39mtry\u001b[39;00m:\n\u001b[1;32m--> 503\u001b[0m         stdout, stderr \u001b[39m=\u001b[39m process\u001b[39m.\u001b[39;49mcommunicate(\u001b[39minput\u001b[39;49m, timeout\u001b[39m=\u001b[39;49mtimeout)\n\u001b[0;32m    504\u001b[0m     \u001b[39mexcept\u001b[39;00m TimeoutExpired \u001b[39mas\u001b[39;00m exc:\n\u001b[0;32m    505\u001b[0m         process\u001b[39m.\u001b[39mkill()\n",
      "File \u001b[1;32mc:\\Users\\User\\AppData\\Local\\Programs\\Python\\Python310\\lib\\subprocess.py:1144\u001b[0m, in \u001b[0;36mPopen.communicate\u001b[1;34m(self, input, timeout)\u001b[0m\n\u001b[0;32m   1142\u001b[0m         stderr \u001b[39m=\u001b[39m \u001b[39mself\u001b[39m\u001b[39m.\u001b[39mstderr\u001b[39m.\u001b[39mread()\n\u001b[0;32m   1143\u001b[0m         \u001b[39mself\u001b[39m\u001b[39m.\u001b[39mstderr\u001b[39m.\u001b[39mclose()\n\u001b[1;32m-> 1144\u001b[0m     \u001b[39mself\u001b[39;49m\u001b[39m.\u001b[39;49mwait()\n\u001b[0;32m   1145\u001b[0m \u001b[39melse\u001b[39;00m:\n\u001b[0;32m   1146\u001b[0m     \u001b[39mif\u001b[39;00m timeout \u001b[39mis\u001b[39;00m \u001b[39mnot\u001b[39;00m \u001b[39mNone\u001b[39;00m:\n",
      "File \u001b[1;32mc:\\Users\\User\\AppData\\Local\\Programs\\Python\\Python310\\lib\\subprocess.py:1207\u001b[0m, in \u001b[0;36mPopen.wait\u001b[1;34m(self, timeout)\u001b[0m\n\u001b[0;32m   1205\u001b[0m     endtime \u001b[39m=\u001b[39m _time() \u001b[39m+\u001b[39m timeout\n\u001b[0;32m   1206\u001b[0m \u001b[39mtry\u001b[39;00m:\n\u001b[1;32m-> 1207\u001b[0m     \u001b[39mreturn\u001b[39;00m \u001b[39mself\u001b[39;49m\u001b[39m.\u001b[39;49m_wait(timeout\u001b[39m=\u001b[39;49mtimeout)\n\u001b[0;32m   1208\u001b[0m \u001b[39mexcept\u001b[39;00m \u001b[39mKeyboardInterrupt\u001b[39;00m:\n\u001b[0;32m   1209\u001b[0m     \u001b[39m# https://bugs.python.org/issue25942\u001b[39;00m\n\u001b[0;32m   1210\u001b[0m     \u001b[39m# The first keyboard interrupt waits briefly for the child to\u001b[39;00m\n\u001b[0;32m   1211\u001b[0m     \u001b[39m# exit under the common assumption that it also received the ^C\u001b[39;00m\n\u001b[0;32m   1212\u001b[0m     \u001b[39m# generated SIGINT and will exit rapidly.\u001b[39;00m\n\u001b[0;32m   1213\u001b[0m     \u001b[39mif\u001b[39;00m timeout \u001b[39mis\u001b[39;00m \u001b[39mnot\u001b[39;00m \u001b[39mNone\u001b[39;00m:\n",
      "File \u001b[1;32mc:\\Users\\User\\AppData\\Local\\Programs\\Python\\Python310\\lib\\subprocess.py:1488\u001b[0m, in \u001b[0;36mPopen._wait\u001b[1;34m(self, timeout)\u001b[0m\n\u001b[0;32m   1485\u001b[0m     timeout_millis \u001b[39m=\u001b[39m \u001b[39mint\u001b[39m(timeout \u001b[39m*\u001b[39m \u001b[39m1000\u001b[39m)\n\u001b[0;32m   1486\u001b[0m \u001b[39mif\u001b[39;00m \u001b[39mself\u001b[39m\u001b[39m.\u001b[39mreturncode \u001b[39mis\u001b[39;00m \u001b[39mNone\u001b[39;00m:\n\u001b[0;32m   1487\u001b[0m     \u001b[39m# API note: Returns immediately if timeout_millis == 0.\u001b[39;00m\n\u001b[1;32m-> 1488\u001b[0m     result \u001b[39m=\u001b[39m _winapi\u001b[39m.\u001b[39;49mWaitForSingleObject(\u001b[39mself\u001b[39;49m\u001b[39m.\u001b[39;49m_handle,\n\u001b[0;32m   1489\u001b[0m                                          timeout_millis)\n\u001b[0;32m   1490\u001b[0m     \u001b[39mif\u001b[39;00m result \u001b[39m==\u001b[39m _winapi\u001b[39m.\u001b[39mWAIT_TIMEOUT:\n\u001b[0;32m   1491\u001b[0m         \u001b[39mraise\u001b[39;00m TimeoutExpired(\u001b[39mself\u001b[39m\u001b[39m.\u001b[39margs, timeout)\n",
      "\u001b[1;31mKeyboardInterrupt\u001b[0m: "
     ]
    }
   ],
   "source": [
    "solution_count = 0\n",
    "while 1:\n",
    "    with pyo.SolverFactory(\"glpk\") as opt:\n",
    "        solution = opt.solve(model)\n",
    "        if solution.solver.termination_condition != pyo.TerminationCondition.optimal:\n",
    "            print(\"All board solutions have been found\")\n",
    "            break\n",
    "\n",
    "    solution_count += 1\n",
    "\n",
    "    add_integer_cut(model)\n",
    "\n",
    "    print(\"Solution #%d\" % (solution_count))\n",
    "    print_solution(model)\n",
    "\n",
    "print('Number of solutions found = %d' % (max(solution_count)))"
   ]
  },
  {
   "cell_type": "code",
   "execution_count": null,
   "metadata": {},
   "outputs": [],
   "source": [
    "# prints the solution stored in the model\n",
    "\n",
    "def print_solution(model):\n",
    "    for r in model.ROWS:\n",
    "        print(' '.join(str(v) for c in model.COLS\n",
    "                       for v in model.VALUES\n",
    "                       if pyo.value(model.y[r, c, v]) >= 0.5))"
   ]
  },
  {
   "cell_type": "code",
   "execution_count": 26,
   "metadata": {},
   "outputs": [
    {
     "ename": "NameError",
     "evalue": "name 'grid' is not defined",
     "output_type": "error",
     "traceback": [
      "\u001b[1;31m---------------------------------------------------------------------------\u001b[0m",
      "\u001b[1;31mNameError\u001b[0m                                 Traceback (most recent call last)",
      "Cell \u001b[1;32mIn[26], line 10\u001b[0m\n\u001b[0;32m      5\u001b[0m         row_values \u001b[39m=\u001b[39m [] \u001b[39m*\u001b[39m \u001b[39m9\u001b[39m \u001b[39m# initialize an empty row\u001b[39;00m\n\u001b[0;32m      6\u001b[0m         row_values\u001b[39m.\u001b[39mappend(\u001b[39mstr\u001b[39m(v) \u001b[39mfor\u001b[39;00m c \u001b[39min\u001b[39;00m model\u001b[39m.\u001b[39mCOLS\n\u001b[0;32m      7\u001b[0m                           \u001b[39mfor\u001b[39;00m v \u001b[39min\u001b[39;00m model\u001b[39m.\u001b[39mVALUES\n\u001b[0;32m      8\u001b[0m                           \u001b[39mif\u001b[39;00m pyo\u001b[39m.\u001b[39mvalue(model\u001b[39m.\u001b[39my[r, c, v]) \u001b[39m>\u001b[39m\u001b[39m=\u001b[39m \u001b[39m0.5\u001b[39m)\n\u001b[1;32m---> 10\u001b[0m grid\n",
      "\u001b[1;31mNameError\u001b[0m: name 'grid' is not defined"
     ]
    }
   ],
   "source": [
    "def solution_to_datagrame(model):\n",
    "    grid = []\n",
    "\n",
    "    for r in model.ROWS:\n",
    "        row_values = [] * 9 # initialize an empty row\n",
    "        row_values.append(str(v) for c in model.COLS\n",
    "                          for v in model.VALUES\n",
    "                          if pyo.value(model.y[r, c, v]) >= 0.5)\n",
    "        \n",
    "\n"
   ]
  },
  {
   "cell_type": "code",
   "execution_count": 16,
   "metadata": {},
   "outputs": [
    {
     "name": "stdout",
     "output_type": "stream",
     "text": [
      "   0  1  2  3  4  5  6  7  8\n",
      "0  1  3  6  7  4  5  8  2  9\n",
      "1  4  9  8  2  1  6  5  3  7\n",
      "2  5  7  2  9  8  3  4  6  1\n",
      "3  7  1  5  4  9  2  3  8  6\n",
      "4  8  2  3  6  5  1  7  9  4\n",
      "5  9  6  4  8  3  7  2  1  5\n",
      "6  2  4  1  3  7  9  6  5  8\n",
      "7  6  8  9  5  2  4  1  7  3\n",
      "8  3  5  7  1  6  8  9  4  2\n"
     ]
    }
   ],
   "source": [
    "def solution_to_dataframe(model):\n",
    "    grid = []\n",
    "\n",
    "    for r in model.ROWS:\n",
    "        row_values = [] * 9 # initialize an ampty row\n",
    "        for c in model.COLS:\n",
    "            for v in model.VALUES:\n",
    "                if pyo.value(model.y[r, c, v]) >= 0.5:\n",
    "                    row_values.append(v)\n",
    "        grid.append(row_values)\n",
    "    \n",
    "    df = pd.DataFrame(grid)\n",
    "    return df\n",
    "\n",
    "solution_df = solution_to_dataframe(model)\n",
    "print(solution_df)"
   ]
  },
  {
   "cell_type": "code",
   "execution_count": 21,
   "metadata": {},
   "outputs": [
    {
     "ename": "NameError",
     "evalue": "name 'solutions' is not defined",
     "output_type": "error",
     "traceback": [
      "\u001b[1;31m---------------------------------------------------------------------------\u001b[0m",
      "\u001b[1;31mNameError\u001b[0m                                 Traceback (most recent call last)",
      "Cell \u001b[1;32mIn[21], line 3\u001b[0m\n\u001b[0;32m      1\u001b[0m wb \u001b[39m=\u001b[39m Workbook()\n\u001b[1;32m----> 3\u001b[0m \u001b[39mfor\u001b[39;00m idx, solution \u001b[39min\u001b[39;00m \u001b[39menumerate\u001b[39m(solutions, start\u001b[39m=\u001b[39m\u001b[39m1\u001b[39m):\n\u001b[0;32m      4\u001b[0m     solution_df \u001b[39m=\u001b[39m solution_to_dataframe(solution)\n\u001b[0;32m      5\u001b[0m     sheet_name \u001b[39m=\u001b[39m \u001b[39mf\u001b[39m\u001b[39m\"\u001b[39m\u001b[39mSolution_\u001b[39m\u001b[39m{\u001b[39;00midx\u001b[39m}\u001b[39;00m\u001b[39m\"\u001b[39m\n",
      "\u001b[1;31mNameError\u001b[0m: name 'solutions' is not defined"
     ]
    }
   ],
   "source": [
    "wb = Workbook()\n",
    "\n",
    "for idx, solution in enumerate(solutions, start=1):\n",
    "    solution_df = solution_to_dataframe(solution)\n",
    "    sheet_name = f\"Solution_{idx}\"\n",
    "    ws = wb.create_sheet(title=sheet_name)\n",
    "    for row in dataframe_to_rows(solution_df, index=False, header=False):\n",
    "        ws.append(row)\n",
    "\n",
    "# Remove the default sheet created and save the workbook\n",
    "del wb['Sheet']\n",
    "wb.save('sudoku_solutions.xlsx')"
   ]
  },
  {
   "cell_type": "code",
   "execution_count": 18,
   "metadata": {},
   "outputs": [],
   "source": [
    "with pd.ExcelWriter('./sudoku_output.xlsx') as writer:\n",
    "    solution_df.to_excel(writer, sheet_name='Solution #%d' % (solution_count))"
   ]
  },
  {
   "cell_type": "code",
   "execution_count": null,
   "metadata": {},
   "outputs": [],
   "source": [
    "output_dict = {}\n",
    "\n",
    "df = pd.DataFrame()\n",
    "\n",
    "for r in model.ROWS:\n",
    "        print(' '.join(str(v) for c in model.COLS\n",
    "                       for v in model.VALUES\n",
    "                       if pyo.value(model.y[r, c, v]) >= 0.5))\n",
    "\n",
    "\n",
    "for i in solution_count:\n",
    "    lines = solution.strip()\n",
    "    \n",
    "for r in model.ROWS:\n",
    "    for c in model.COLS:\n",
    "        for v in model.VALUES:\n",
    "            if pyo.value(model.y[r, c, v]) >= 0.5:\n",
    "                output_dict[(r, c)] = v"
   ]
  },
  {
   "cell_type": "code",
   "execution_count": null,
   "metadata": {},
   "outputs": [],
   "source": []
  }
 ],
 "metadata": {
  "kernelspec": {
   "display_name": "Python 3",
   "language": "python",
   "name": "python3"
  },
  "language_info": {
   "codemirror_mode": {
    "name": "ipython",
    "version": 3
   },
   "file_extension": ".py",
   "mimetype": "text/x-python",
   "name": "python",
   "nbconvert_exporter": "python",
   "pygments_lexer": "ipython3",
   "version": "3.10.7"
  },
  "orig_nbformat": 4
 },
 "nbformat": 4,
 "nbformat_minor": 2
}
