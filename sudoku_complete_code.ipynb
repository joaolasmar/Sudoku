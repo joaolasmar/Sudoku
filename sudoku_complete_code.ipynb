{
 "cells": [
  {
   "cell_type": "markdown",
   "metadata": {},
   "source": [
    "# Solving Sudoku Puzzle with Pyomo and Excel"
   ]
  },
  {
   "cell_type": "markdown",
   "metadata": {},
   "source": [
    "This formulation is based on the chapter 5.4.2 from Pyomo documentation."
   ]
  },
  {
   "cell_type": "markdown",
   "metadata": {},
   "source": [
    "$$\n",
    "\\begin{align}\n",
    "    \\text{s.t.} & \\sum_{r \\in ROWS} y_{r,c,v} = 1 \\quad & \\forall c \\in COLS, v \\in VALUES \\\\\n",
    "                & \\sum_{c \\in COLS} y_{r,c,v} = 1 \\quad & \\forall r \\in ROWS, v \\in VALUES \\\\\n",
    "                & \\sum_{v \\in VALUES} y_{r,c,v} = 1 \\quad & \\forall r \\in ROWS, c \\in COLS \\\\\n",
    "                & \\sum_{r=1}^{3} \\sum_{c=1}^{3} y_{(r + U),(c + W),v} & U, W \\in \\{0,3,6\\} \\\\\n",
    "                & y_{r,c,v} \\in \\{0,1\\} \\quad & \\forall r \\in ROWS, c \\in COLS, v \\in VALUES\n",
    "\\end{align}\n",
    "$$"
   ]
  },
  {
   "cell_type": "code",
   "execution_count": 1,
   "metadata": {},
   "outputs": [],
   "source": [
    "import pandas as pd\n",
    "import pyomo.environ as pyo"
   ]
  },
  {
   "cell_type": "code",
   "execution_count": 2,
   "metadata": {},
   "outputs": [
    {
     "data": {
      "text/html": [
       "<div>\n",
       "<style scoped>\n",
       "    .dataframe tbody tr th:only-of-type {\n",
       "        vertical-align: middle;\n",
       "    }\n",
       "\n",
       "    .dataframe tbody tr th {\n",
       "        vertical-align: top;\n",
       "    }\n",
       "\n",
       "    .dataframe thead th {\n",
       "        text-align: right;\n",
       "    }\n",
       "</style>\n",
       "<table border=\"1\" class=\"dataframe\">\n",
       "  <thead>\n",
       "    <tr style=\"text-align: right;\">\n",
       "      <th></th>\n",
       "      <th>1</th>\n",
       "      <th>2</th>\n",
       "      <th>3</th>\n",
       "      <th>4</th>\n",
       "      <th>5</th>\n",
       "      <th>6</th>\n",
       "      <th>7</th>\n",
       "      <th>8</th>\n",
       "      <th>9</th>\n",
       "    </tr>\n",
       "  </thead>\n",
       "  <tbody>\n",
       "    <tr>\n",
       "      <th>1</th>\n",
       "      <td>5.0</td>\n",
       "      <td>3.0</td>\n",
       "      <td>NaN</td>\n",
       "      <td>NaN</td>\n",
       "      <td>7.0</td>\n",
       "      <td>NaN</td>\n",
       "      <td>NaN</td>\n",
       "      <td>NaN</td>\n",
       "      <td>NaN</td>\n",
       "    </tr>\n",
       "    <tr>\n",
       "      <th>2</th>\n",
       "      <td>6.0</td>\n",
       "      <td>NaN</td>\n",
       "      <td>NaN</td>\n",
       "      <td>1.0</td>\n",
       "      <td>9.0</td>\n",
       "      <td>5.0</td>\n",
       "      <td>NaN</td>\n",
       "      <td>NaN</td>\n",
       "      <td>NaN</td>\n",
       "    </tr>\n",
       "    <tr>\n",
       "      <th>3</th>\n",
       "      <td>NaN</td>\n",
       "      <td>9.0</td>\n",
       "      <td>8.0</td>\n",
       "      <td>NaN</td>\n",
       "      <td>NaN</td>\n",
       "      <td>NaN</td>\n",
       "      <td>NaN</td>\n",
       "      <td>6.0</td>\n",
       "      <td>NaN</td>\n",
       "    </tr>\n",
       "    <tr>\n",
       "      <th>4</th>\n",
       "      <td>8.0</td>\n",
       "      <td>NaN</td>\n",
       "      <td>NaN</td>\n",
       "      <td>NaN</td>\n",
       "      <td>6.0</td>\n",
       "      <td>NaN</td>\n",
       "      <td>NaN</td>\n",
       "      <td>NaN</td>\n",
       "      <td>3.0</td>\n",
       "    </tr>\n",
       "    <tr>\n",
       "      <th>5</th>\n",
       "      <td>4.0</td>\n",
       "      <td>NaN</td>\n",
       "      <td>NaN</td>\n",
       "      <td>8.0</td>\n",
       "      <td>NaN</td>\n",
       "      <td>3.0</td>\n",
       "      <td>NaN</td>\n",
       "      <td>NaN</td>\n",
       "      <td>1.0</td>\n",
       "    </tr>\n",
       "    <tr>\n",
       "      <th>6</th>\n",
       "      <td>7.0</td>\n",
       "      <td>NaN</td>\n",
       "      <td>NaN</td>\n",
       "      <td>NaN</td>\n",
       "      <td>2.0</td>\n",
       "      <td>NaN</td>\n",
       "      <td>NaN</td>\n",
       "      <td>NaN</td>\n",
       "      <td>6.0</td>\n",
       "    </tr>\n",
       "    <tr>\n",
       "      <th>7</th>\n",
       "      <td>NaN</td>\n",
       "      <td>6.0</td>\n",
       "      <td>NaN</td>\n",
       "      <td>NaN</td>\n",
       "      <td>NaN</td>\n",
       "      <td>NaN</td>\n",
       "      <td>2.0</td>\n",
       "      <td>8.0</td>\n",
       "      <td>NaN</td>\n",
       "    </tr>\n",
       "    <tr>\n",
       "      <th>8</th>\n",
       "      <td>NaN</td>\n",
       "      <td>NaN</td>\n",
       "      <td>NaN</td>\n",
       "      <td>4.0</td>\n",
       "      <td>1.0</td>\n",
       "      <td>9.0</td>\n",
       "      <td>NaN</td>\n",
       "      <td>NaN</td>\n",
       "      <td>5.0</td>\n",
       "    </tr>\n",
       "    <tr>\n",
       "      <th>9</th>\n",
       "      <td>NaN</td>\n",
       "      <td>NaN</td>\n",
       "      <td>NaN</td>\n",
       "      <td>NaN</td>\n",
       "      <td>8.0</td>\n",
       "      <td>NaN</td>\n",
       "      <td>NaN</td>\n",
       "      <td>7.0</td>\n",
       "      <td>9.0</td>\n",
       "    </tr>\n",
       "  </tbody>\n",
       "</table>\n",
       "</div>"
      ],
      "text/plain": [
       "     1    2    3    4    5    6    7    8    9\n",
       "1  5.0  3.0  NaN  NaN  7.0  NaN  NaN  NaN  NaN\n",
       "2  6.0  NaN  NaN  1.0  9.0  5.0  NaN  NaN  NaN\n",
       "3  NaN  9.0  8.0  NaN  NaN  NaN  NaN  6.0  NaN\n",
       "4  8.0  NaN  NaN  NaN  6.0  NaN  NaN  NaN  3.0\n",
       "5  4.0  NaN  NaN  8.0  NaN  3.0  NaN  NaN  1.0\n",
       "6  7.0  NaN  NaN  NaN  2.0  NaN  NaN  NaN  6.0\n",
       "7  NaN  6.0  NaN  NaN  NaN  NaN  2.0  8.0  NaN\n",
       "8  NaN  NaN  NaN  4.0  1.0  9.0  NaN  NaN  5.0\n",
       "9  NaN  NaN  NaN  NaN  8.0  NaN  NaN  7.0  9.0"
      ]
     },
     "metadata": {},
     "output_type": "display_data"
    }
   ],
   "source": [
    "# Read xlsx\n",
    "\n",
    "board = pd.read_excel('./input/sudoku_input.xlsx', header=None)\n",
    "board.index += 1\n",
    "board.columns += 1\n",
    "display(board)"
   ]
  },
  {
   "cell_type": "markdown",
   "metadata": {},
   "source": [
    "### Create model"
   ]
  },
  {
   "cell_type": "code",
   "execution_count": 3,
   "metadata": {},
   "outputs": [],
   "source": [
    "model = pyo.ConcreteModel()"
   ]
  },
  {
   "cell_type": "markdown",
   "metadata": {},
   "source": [
    "### Sets"
   ]
  },
  {
   "cell_type": "code",
   "execution_count": 4,
   "metadata": {},
   "outputs": [],
   "source": [
    "model.ROWS = pyo.Set(initialize=board.index)\n",
    "model.COLS = pyo.Set(initialize=board.columns)\n",
    "model.VALUES = pyo.Set(initialize=pyo.RangeSet(1, 9))"
   ]
  },
  {
   "cell_type": "code",
   "execution_count": 5,
   "metadata": {},
   "outputs": [],
   "source": [
    "# subsquares\n",
    "model.U = pyo.Set(initialize=[0, 3, 6])\n",
    "model.W = pyo.Set(initialize=[0, 3, 6])"
   ]
  },
  {
   "cell_type": "markdown",
   "metadata": {},
   "source": [
    "### Variables"
   ]
  },
  {
   "cell_type": "code",
   "execution_count": 6,
   "metadata": {},
   "outputs": [],
   "source": [
    "model.y = pyo.Var(model.ROWS, model.COLS, model.VALUES, within=pyo.Binary)"
   ]
  },
  {
   "cell_type": "markdown",
   "metadata": {},
   "source": [
    "### Constraints"
   ]
  },
  {
   "cell_type": "code",
   "execution_count": 7,
   "metadata": {},
   "outputs": [],
   "source": [
    "# the board numbers must be maintained\n",
    "\n",
    "for r in model.ROWS:\n",
    "    for c in model.COLS:\n",
    "        if board.loc[r, c] in model.VALUES:\n",
    "            model.y[r, c, board.loc[r, c]].fix(1)\n"
   ]
  },
  {
   "cell_type": "code",
   "execution_count": 8,
   "metadata": {},
   "outputs": [],
   "source": [
    "# exactly one number in each row\n",
    "\n",
    "def row_cstr(model, c, v):\n",
    "    return sum(model.y[:, c, v]) == 1\n",
    "\n",
    "model.row_cstr = pyo.Constraint(model.COLS, model.VALUES, rule=row_cstr)"
   ]
  },
  {
   "cell_type": "code",
   "execution_count": 9,
   "metadata": {},
   "outputs": [],
   "source": [
    "# exactly one number in each column\n",
    "\n",
    "def col_cstr(model, r, v):\n",
    "    return sum(model.y[r, :, v]) == 1\n",
    "\n",
    "model.col_cstr = pyo.Constraint(model.ROWS, model.VALUES, rule=col_cstr)"
   ]
  },
  {
   "cell_type": "code",
   "execution_count": 10,
   "metadata": {},
   "outputs": [],
   "source": [
    "# exactly one number in each subsquare\n",
    "\n",
    "def subsquares_cstr(model, u, w, v):\n",
    "    return sum(model.y[r+u, c+w, v] for r in range(1, 4) for c in range(1, 4)) == 1\n",
    "\n",
    "model.subsquares_cstr = pyo.Constraint(model.U, model.W, model.VALUES, rule=subsquares_cstr)"
   ]
  },
  {
   "cell_type": "code",
   "execution_count": 11,
   "metadata": {},
   "outputs": [],
   "source": [
    "# exactly one number in each cell\n",
    "\n",
    "def value_cstr(model, r, c):\n",
    "    return sum(model.y[r, c, :]) == 1\n",
    "\n",
    "model.value_cstr = pyo.Constraint(model.ROWS, model.COLS, rule=value_cstr)"
   ]
  },
  {
   "cell_type": "markdown",
   "metadata": {},
   "source": [
    "### Objective"
   ]
  },
  {
   "cell_type": "code",
   "execution_count": 12,
   "metadata": {},
   "outputs": [],
   "source": [
    "model.obj = pyo.Objective(expr=1.0)"
   ]
  },
  {
   "cell_type": "markdown",
   "metadata": {},
   "source": [
    "## Integer cut"
   ]
  },
  {
   "cell_type": "markdown",
   "metadata": {},
   "source": [
    "The integer cut uses two sets. The first set $S_0$ consists of indices for those variables whose current solution is 0, and the second set $S_1$ consists of indices for those variables whose current solution is 1. Given the two sets, the integer cut constraint would prevent such a solution from appeating twice."
   ]
  },
  {
   "cell_type": "markdown",
   "metadata": {},
   "source": [
    "$$\n",
    "\\begin{align}\n",
    "    \\sum_{(r,c,v) \\in S_0} y_{r,c,v} + \\sum_{(r,c,v) \\in S_1} (1 - y_{r,c,v}) \\ge 1\n",
    "\\end{align}\n",
    "$$"
   ]
  },
  {
   "cell_type": "code",
   "execution_count": 13,
   "metadata": {},
   "outputs": [],
   "source": [
    "# adding a new integer cut to the model\n",
    "\n",
    "def add_integer_cut(model):\n",
    "    # add the ConstraintList to store the IntegerCuts if it does not already exist\n",
    "    if not hasattr(model, 'IntegerCuts'):\n",
    "        model.IntegerCuts = pyo.ConstraintList()\n",
    "\n",
    "    # add the integer cut corresponding to the current solution in the model\n",
    "    cut_expr = 0.0\n",
    "    for r in model.ROWS:\n",
    "        for c in model.COLS:\n",
    "            for v in model.VALUES:\n",
    "                if not model.y[r, c, v].fixed:\n",
    "                    if pyo.value(model.y[r, c, v]) >= 0.5:\n",
    "                        cut_expr += (1.0 - model.y[r, c, v])\n",
    "                    else:\n",
    "                        cut_expr += model.y[r, c, v]\n",
    "    model.IntegerCuts.add(cut_expr >= 1)"
   ]
  },
  {
   "cell_type": "code",
   "execution_count": 14,
   "metadata": {},
   "outputs": [],
   "source": [
    "# prints the solution stored in the model\n",
    "\n",
    "def print_solution(model):\n",
    "    for r in model.ROWS:\n",
    "        print(' '.join(str(v) for c in model.COLS\n",
    "                       for v in model.VALUES\n",
    "                       if pyo.value(model.y[r, c, v]) >= 0.5))"
   ]
  },
  {
   "cell_type": "code",
   "execution_count": 15,
   "metadata": {},
   "outputs": [],
   "source": [
    "# def solution_to_dataframe(model):\n",
    "\n",
    "#     for r in model.ROWS:\n",
    "#         pd.DataFrame(' '.join(str(v) for c in model.COLS\n",
    "#                               for v in model.VALUES\n",
    "#                               if pyo.value(model.y[r, c, v]) >= 0.5))"
   ]
  },
  {
   "cell_type": "code",
   "execution_count": 16,
   "metadata": {},
   "outputs": [],
   "source": [
    "def solution_to_dataframe(model):\n",
    "    grid = []\n",
    "\n",
    "    for r in model.ROWS:\n",
    "        row_values = [] * 9 # initialize an empty row\n",
    "        for c in model.COLS:\n",
    "            for v in model.VALUES:\n",
    "                if pyo.value(model.y[r, c, v]) >= 0.5:\n",
    "                    row_values.append(v)\n",
    "        grid.append(row_values)\n",
    "    \n",
    "    df = pd.DataFrame(grid)\n",
    "    return df"
   ]
  },
  {
   "cell_type": "code",
   "execution_count": 17,
   "metadata": {},
   "outputs": [
    {
     "name": "stdout",
     "output_type": "stream",
     "text": [
      "WARNING: Constant objective detected, replacing with a placeholder to prevent\n",
      "    solver failure.\n",
      "Solution #1\n",
      "5 3 4 6 7 8 9 1 2\n",
      "6 7 2 1 9 5 3 4 8\n",
      "1 9 8 3 4 2 5 6 7\n",
      "8 5 9 7 6 1 4 2 3\n",
      "4 2 6 8 5 3 7 9 1\n",
      "7 1 3 9 2 4 8 5 6\n",
      "9 6 1 5 3 7 2 8 4\n",
      "2 8 7 4 1 9 6 3 5\n",
      "3 4 5 2 8 6 1 7 9\n",
      "WARNING: Constant objective detected, replacing with a placeholder to prevent\n",
      "    solver failure.\n",
      "WARNING: Loading a SolverResults object with a warning status into\n",
      "    model.name=\"unknown\";\n",
      "      - termination condition: infeasible\n",
      "      - message from solver: Model was proven to be infeasible.\n",
      "All board solutions have been found\n"
     ]
    }
   ],
   "source": [
    "solution_count = 0\n",
    "dfs = {}\n",
    "\n",
    "while 1:\n",
    "    with pyo.SolverFactory(\"gurobi\") as opt:\n",
    "        results = opt.solve(model)\n",
    "        if results.solver.termination_condition != pyo.TerminationCondition.optimal:\n",
    "            print(\"All board solutions have been found\")\n",
    "            break\n",
    "\n",
    "    solution_count += 1\n",
    "\n",
    "    add_integer_cut(model)\n",
    "\n",
    "    print(\"Solution #%d\" % (solution_count))\n",
    "    print_solution(model)\n",
    "    \n",
    "    df = solution_to_dataframe(model)\n",
    "\n",
    "    # store the DataFrame in the dictionary with a key\n",
    "    dfs[f'Solution_{solution_count}'] = df"
   ]
  },
  {
   "cell_type": "code",
   "execution_count": 18,
   "metadata": {},
   "outputs": [],
   "source": [
    "with pd.ExcelWriter('./sudoku_output.xlsx') as file:\n",
    "    for key, dataframe in dfs.items():\n",
    "        dataframe.to_excel(file, sheet_name=key)"
   ]
  }
 ],
 "metadata": {
  "kernelspec": {
   "display_name": "Python 3",
   "language": "python",
   "name": "python3"
  },
  "language_info": {
   "codemirror_mode": {
    "name": "ipython",
    "version": 3
   },
   "file_extension": ".py",
   "mimetype": "text/x-python",
   "name": "python",
   "nbconvert_exporter": "python",
   "pygments_lexer": "ipython3",
   "version": "3.10.7"
  },
  "orig_nbformat": 4
 },
 "nbformat": 4,
 "nbformat_minor": 2
}
